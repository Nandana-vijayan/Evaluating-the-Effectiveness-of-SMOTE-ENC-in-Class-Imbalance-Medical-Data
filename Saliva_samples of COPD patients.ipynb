{
 "cells": [
  {
   "cell_type": "code",
   "execution_count": 1,
   "metadata": {
    "colab": {
     "base_uri": "https://localhost:8080/",
     "height": 423
    },
    "executionInfo": {
     "elapsed": 4492,
     "status": "ok",
     "timestamp": 1738029167301,
     "user": {
      "displayName": "Jada Karthika",
      "userId": "08335461557543458491"
     },
     "user_tz": -330
    },
    "id": "SWIhKmgB01_-",
    "outputId": "80f9a5c4-4fca-4eaa-f05d-c4cccbdcc902"
   },
   "outputs": [
    {
     "data": {
      "text/html": [
       "<div>\n",
       "<style scoped>\n",
       "    .dataframe tbody tr th:only-of-type {\n",
       "        vertical-align: middle;\n",
       "    }\n",
       "\n",
       "    .dataframe tbody tr th {\n",
       "        vertical-align: top;\n",
       "    }\n",
       "\n",
       "    .dataframe thead th {\n",
       "        text-align: right;\n",
       "    }\n",
       "</style>\n",
       "<table border=\"1\" class=\"dataframe\">\n",
       "  <thead>\n",
       "    <tr style=\"text-align: right;\">\n",
       "      <th></th>\n",
       "      <th>Diagnosis</th>\n",
       "      <th>ID</th>\n",
       "      <th>Imaginary Part (Min Δ)</th>\n",
       "      <th>Imaginary Part (Avg Δ)</th>\n",
       "      <th>Real Part (Min Δ)</th>\n",
       "      <th>Real Part (Avg Δ)</th>\n",
       "      <th>Gender</th>\n",
       "      <th>Age</th>\n",
       "      <th>Smoking</th>\n",
       "    </tr>\n",
       "  </thead>\n",
       "  <tbody>\n",
       "    <tr>\n",
       "      <th>0</th>\n",
       "      <td>COPD</td>\n",
       "      <td>301-4</td>\n",
       "      <td>-320.61</td>\n",
       "      <td>-300.563531</td>\n",
       "      <td>-495.26</td>\n",
       "      <td>-464.171991</td>\n",
       "      <td>1</td>\n",
       "      <td>77</td>\n",
       "      <td>2</td>\n",
       "    </tr>\n",
       "    <tr>\n",
       "      <th>1</th>\n",
       "      <td>COPD</td>\n",
       "      <td>302-3</td>\n",
       "      <td>-325.39</td>\n",
       "      <td>-314.750359</td>\n",
       "      <td>-473.73</td>\n",
       "      <td>-469.263140</td>\n",
       "      <td>0</td>\n",
       "      <td>72</td>\n",
       "      <td>2</td>\n",
       "    </tr>\n",
       "    <tr>\n",
       "      <th>2</th>\n",
       "      <td>COPD</td>\n",
       "      <td>303-3</td>\n",
       "      <td>-323.00</td>\n",
       "      <td>-317.436056</td>\n",
       "      <td>-476.12</td>\n",
       "      <td>-471.897667</td>\n",
       "      <td>1</td>\n",
       "      <td>73</td>\n",
       "      <td>3</td>\n",
       "    </tr>\n",
       "    <tr>\n",
       "      <th>3</th>\n",
       "      <td>COPD</td>\n",
       "      <td>304-4</td>\n",
       "      <td>-327.78</td>\n",
       "      <td>-317.399670</td>\n",
       "      <td>-473.73</td>\n",
       "      <td>-468.856388</td>\n",
       "      <td>1</td>\n",
       "      <td>76</td>\n",
       "      <td>2</td>\n",
       "    </tr>\n",
       "    <tr>\n",
       "      <th>4</th>\n",
       "      <td>COPD</td>\n",
       "      <td>305-4</td>\n",
       "      <td>-325.39</td>\n",
       "      <td>-316.155785</td>\n",
       "      <td>-478.52</td>\n",
       "      <td>-472.869783</td>\n",
       "      <td>0</td>\n",
       "      <td>65</td>\n",
       "      <td>2</td>\n",
       "    </tr>\n",
       "    <tr>\n",
       "      <th>...</th>\n",
       "      <td>...</td>\n",
       "      <td>...</td>\n",
       "      <td>...</td>\n",
       "      <td>...</td>\n",
       "      <td>...</td>\n",
       "      <td>...</td>\n",
       "      <td>...</td>\n",
       "      <td>...</td>\n",
       "      <td>...</td>\n",
       "    </tr>\n",
       "    <tr>\n",
       "      <th>394</th>\n",
       "      <td>Infected</td>\n",
       "      <td>I176</td>\n",
       "      <td>NaN</td>\n",
       "      <td>NaN</td>\n",
       "      <td>NaN</td>\n",
       "      <td>NaN</td>\n",
       "      <td>0</td>\n",
       "      <td>49</td>\n",
       "      <td>2</td>\n",
       "    </tr>\n",
       "    <tr>\n",
       "      <th>395</th>\n",
       "      <td>Infected</td>\n",
       "      <td>I177</td>\n",
       "      <td>NaN</td>\n",
       "      <td>NaN</td>\n",
       "      <td>NaN</td>\n",
       "      <td>NaN</td>\n",
       "      <td>0</td>\n",
       "      <td>37</td>\n",
       "      <td>1</td>\n",
       "    </tr>\n",
       "    <tr>\n",
       "      <th>396</th>\n",
       "      <td>Infected</td>\n",
       "      <td>I178</td>\n",
       "      <td>NaN</td>\n",
       "      <td>NaN</td>\n",
       "      <td>NaN</td>\n",
       "      <td>NaN</td>\n",
       "      <td>0</td>\n",
       "      <td>29</td>\n",
       "      <td>1</td>\n",
       "    </tr>\n",
       "    <tr>\n",
       "      <th>397</th>\n",
       "      <td>Infected</td>\n",
       "      <td>I179</td>\n",
       "      <td>NaN</td>\n",
       "      <td>NaN</td>\n",
       "      <td>NaN</td>\n",
       "      <td>NaN</td>\n",
       "      <td>1</td>\n",
       "      <td>51</td>\n",
       "      <td>1</td>\n",
       "    </tr>\n",
       "    <tr>\n",
       "      <th>398</th>\n",
       "      <td>Infected</td>\n",
       "      <td>I180</td>\n",
       "      <td>NaN</td>\n",
       "      <td>NaN</td>\n",
       "      <td>NaN</td>\n",
       "      <td>NaN</td>\n",
       "      <td>0</td>\n",
       "      <td>40</td>\n",
       "      <td>1</td>\n",
       "    </tr>\n",
       "  </tbody>\n",
       "</table>\n",
       "<p>399 rows × 9 columns</p>\n",
       "</div>"
      ],
      "text/plain": [
       "    Diagnosis     ID  Imaginary Part (Min Δ)  Imaginary Part (Avg Δ)  \\\n",
       "0        COPD  301-4                 -320.61             -300.563531   \n",
       "1        COPD  302-3                 -325.39             -314.750359   \n",
       "2        COPD  303-3                 -323.00             -317.436056   \n",
       "3        COPD  304-4                 -327.78             -317.399670   \n",
       "4        COPD  305-4                 -325.39             -316.155785   \n",
       "..        ...    ...                     ...                     ...   \n",
       "394  Infected   I176                     NaN                     NaN   \n",
       "395  Infected   I177                     NaN                     NaN   \n",
       "396  Infected   I178                     NaN                     NaN   \n",
       "397  Infected   I179                     NaN                     NaN   \n",
       "398  Infected   I180                     NaN                     NaN   \n",
       "\n",
       "     Real Part (Min Δ)  Real Part (Avg Δ)  Gender  Age  Smoking  \n",
       "0              -495.26        -464.171991       1   77        2  \n",
       "1              -473.73        -469.263140       0   72        2  \n",
       "2              -476.12        -471.897667       1   73        3  \n",
       "3              -473.73        -468.856388       1   76        2  \n",
       "4              -478.52        -472.869783       0   65        2  \n",
       "..                 ...                ...     ...  ...      ...  \n",
       "394                NaN                NaN       0   49        2  \n",
       "395                NaN                NaN       0   37        1  \n",
       "396                NaN                NaN       0   29        1  \n",
       "397                NaN                NaN       1   51        1  \n",
       "398                NaN                NaN       0   40        1  \n",
       "\n",
       "[399 rows x 9 columns]"
      ]
     },
     "execution_count": 1,
     "metadata": {},
     "output_type": "execute_result"
    }
   ],
   "source": [
    "import pandas as coppds\n",
    "import seaborn as snscopd\n",
    "import matplotlib.pyplot as pltcopd\n",
    "\n",
    "salivaco = coppds.read_csv('Exasens.csv')\n",
    "salivaco"
   ]
  },
  {
   "cell_type": "code",
   "execution_count": 2,
   "metadata": {
    "id": "Hk94R4g40zwY"
   },
   "outputs": [],
   "source": [
    "import warnings as salwar\n",
    "salwar.filterwarnings(\"ignore\")"
   ]
  },
  {
   "cell_type": "code",
   "execution_count": 3,
   "metadata": {
    "colab": {
     "base_uri": "https://localhost:8080/"
    },
    "executionInfo": {
     "elapsed": 396,
     "status": "ok",
     "timestamp": 1738029188507,
     "user": {
      "displayName": "Jada Karthika",
      "userId": "08335461557543458491"
     },
     "user_tz": -330
    },
    "id": "Y7zNXDyInJbJ",
    "outputId": "f79e189e-ec3a-4377-b6d4-0844e82a8bb1"
   },
   "outputs": [
    {
     "name": "stdout",
     "output_type": "stream",
     "text": [
      "<class 'pandas.core.frame.DataFrame'>\n",
      "RangeIndex: 399 entries, 0 to 398\n",
      "Data columns (total 9 columns):\n",
      " #   Column                  Non-Null Count  Dtype  \n",
      "---  ------                  --------------  -----  \n",
      " 0   Diagnosis               399 non-null    object \n",
      " 1   ID                      399 non-null    object \n",
      " 2   Imaginary Part (Min Δ)  100 non-null    float64\n",
      " 3   Imaginary Part (Avg Δ)  100 non-null    float64\n",
      " 4   Real Part (Min Δ)       100 non-null    float64\n",
      " 5   Real Part (Avg Δ)       100 non-null    float64\n",
      " 6   Gender                  399 non-null    int64  \n",
      " 7   Age                     399 non-null    int64  \n",
      " 8   Smoking                 399 non-null    int64  \n",
      "dtypes: float64(4), int64(3), object(2)\n",
      "memory usage: 28.2+ KB\n"
     ]
    }
   ],
   "source": [
    "salivaco.info()"
   ]
  },
  {
   "cell_type": "markdown",
   "metadata": {
    "id": "PgWwVeiunTrC"
   },
   "source": [
    "Missing values are seen in four features related to Saliva Permittivity"
   ]
  },
  {
   "cell_type": "code",
   "execution_count": 4,
   "metadata": {
    "colab": {
     "base_uri": "https://localhost:8080/",
     "height": 366
    },
    "executionInfo": {
     "elapsed": 355,
     "status": "ok",
     "timestamp": 1738029300295,
     "user": {
      "displayName": "Jada Karthika",
      "userId": "08335461557543458491"
     },
     "user_tz": -330
    },
    "id": "EZN105fWlaIZ",
    "outputId": "d780795b-40ca-4649-a386-b4f583b9ccf4"
   },
   "outputs": [
    {
     "data": {
      "text/plain": [
       "Diagnosis                   0\n",
       "ID                          0\n",
       "Imaginary Part (Min Δ)    299\n",
       "Imaginary Part (Avg Δ)    299\n",
       "Real Part (Min Δ)         299\n",
       "Real Part (Avg Δ)         299\n",
       "Gender                      0\n",
       "Age                         0\n",
       "Smoking                     0\n",
       "dtype: int64"
      ]
     },
     "execution_count": 4,
     "metadata": {},
     "output_type": "execute_result"
    }
   ],
   "source": [
    "sali_nul = salivaco.isnull().sum()\n",
    "sali_nul"
   ]
  },
  {
   "cell_type": "code",
   "execution_count": 7,
   "metadata": {
    "colab": {
     "base_uri": "https://localhost:8080/",
     "height": 241
    },
    "executionInfo": {
     "elapsed": 393,
     "status": "ok",
     "timestamp": 1738029995162,
     "user": {
      "displayName": "Jada Karthika",
      "userId": "08335461557543458491"
     },
     "user_tz": -330
    },
    "id": "8449sXR5qHIa",
    "outputId": "758fc56a-dabc-40cd-9c7f-b3f4ad76cbdf"
   },
   "outputs": [
    {
     "data": {
      "text/plain": [
       "Diagnosis\n",
       "HC          160\n",
       "Asthma       80\n",
       "Infected     80\n",
       "COPD         79\n",
       "Name: count, dtype: int64"
      ]
     },
     "execution_count": 7,
     "metadata": {},
     "output_type": "execute_result"
    }
   ],
   "source": [
    "salivaco['Diagnosis'].value_counts()"
   ]
  },
  {
   "cell_type": "code",
   "execution_count": 8,
   "metadata": {
    "colab": {
     "base_uri": "https://localhost:8080/",
     "height": 441
    },
    "executionInfo": {
     "elapsed": 413,
     "status": "ok",
     "timestamp": 1738030132944,
     "user": {
      "displayName": "Jada Karthika",
      "userId": "08335461557543458491"
     },
     "user_tz": -330
    },
    "id": "Npigq1T3qHFL",
    "outputId": "5c7dfe38-2663-453d-c676-6f72e7d39f7b"
   },
   "outputs": [
    {
     "name": "stdout",
     "output_type": "stream",
     "text": [
      "All 299 samples with NaN:\n"
     ]
    },
    {
     "data": {
      "text/html": [
       "<div>\n",
       "<style scoped>\n",
       "    .dataframe tbody tr th:only-of-type {\n",
       "        vertical-align: middle;\n",
       "    }\n",
       "\n",
       "    .dataframe tbody tr th {\n",
       "        vertical-align: top;\n",
       "    }\n",
       "\n",
       "    .dataframe thead th {\n",
       "        text-align: right;\n",
       "    }\n",
       "</style>\n",
       "<table border=\"1\" class=\"dataframe\">\n",
       "  <thead>\n",
       "    <tr style=\"text-align: right;\">\n",
       "      <th></th>\n",
       "      <th>Diagnosis</th>\n",
       "      <th>ID</th>\n",
       "      <th>Imaginary Part (Min Δ)</th>\n",
       "      <th>Imaginary Part (Avg Δ)</th>\n",
       "      <th>Real Part (Min Δ)</th>\n",
       "      <th>Real Part (Avg Δ)</th>\n",
       "      <th>Gender</th>\n",
       "      <th>Age</th>\n",
       "      <th>Smoking</th>\n",
       "    </tr>\n",
       "  </thead>\n",
       "  <tbody>\n",
       "    <tr>\n",
       "      <th>7</th>\n",
       "      <td>COPD</td>\n",
       "      <td>308</td>\n",
       "      <td>NaN</td>\n",
       "      <td>NaN</td>\n",
       "      <td>NaN</td>\n",
       "      <td>NaN</td>\n",
       "      <td>1</td>\n",
       "      <td>77</td>\n",
       "      <td>2</td>\n",
       "    </tr>\n",
       "    <tr>\n",
       "      <th>15</th>\n",
       "      <td>COPD</td>\n",
       "      <td>316</td>\n",
       "      <td>NaN</td>\n",
       "      <td>NaN</td>\n",
       "      <td>NaN</td>\n",
       "      <td>NaN</td>\n",
       "      <td>1</td>\n",
       "      <td>45</td>\n",
       "      <td>2</td>\n",
       "    </tr>\n",
       "    <tr>\n",
       "      <th>16</th>\n",
       "      <td>COPD</td>\n",
       "      <td>317</td>\n",
       "      <td>NaN</td>\n",
       "      <td>NaN</td>\n",
       "      <td>NaN</td>\n",
       "      <td>NaN</td>\n",
       "      <td>1</td>\n",
       "      <td>69</td>\n",
       "      <td>2</td>\n",
       "    </tr>\n",
       "    <tr>\n",
       "      <th>23</th>\n",
       "      <td>COPD</td>\n",
       "      <td>324</td>\n",
       "      <td>NaN</td>\n",
       "      <td>NaN</td>\n",
       "      <td>NaN</td>\n",
       "      <td>NaN</td>\n",
       "      <td>1</td>\n",
       "      <td>64</td>\n",
       "      <td>2</td>\n",
       "    </tr>\n",
       "    <tr>\n",
       "      <th>29</th>\n",
       "      <td>COPD</td>\n",
       "      <td>330</td>\n",
       "      <td>NaN</td>\n",
       "      <td>NaN</td>\n",
       "      <td>NaN</td>\n",
       "      <td>NaN</td>\n",
       "      <td>1</td>\n",
       "      <td>73</td>\n",
       "      <td>1</td>\n",
       "    </tr>\n",
       "    <tr>\n",
       "      <th>...</th>\n",
       "      <td>...</td>\n",
       "      <td>...</td>\n",
       "      <td>...</td>\n",
       "      <td>...</td>\n",
       "      <td>...</td>\n",
       "      <td>...</td>\n",
       "      <td>...</td>\n",
       "      <td>...</td>\n",
       "      <td>...</td>\n",
       "    </tr>\n",
       "    <tr>\n",
       "      <th>394</th>\n",
       "      <td>Infected</td>\n",
       "      <td>I176</td>\n",
       "      <td>NaN</td>\n",
       "      <td>NaN</td>\n",
       "      <td>NaN</td>\n",
       "      <td>NaN</td>\n",
       "      <td>0</td>\n",
       "      <td>49</td>\n",
       "      <td>2</td>\n",
       "    </tr>\n",
       "    <tr>\n",
       "      <th>395</th>\n",
       "      <td>Infected</td>\n",
       "      <td>I177</td>\n",
       "      <td>NaN</td>\n",
       "      <td>NaN</td>\n",
       "      <td>NaN</td>\n",
       "      <td>NaN</td>\n",
       "      <td>0</td>\n",
       "      <td>37</td>\n",
       "      <td>1</td>\n",
       "    </tr>\n",
       "    <tr>\n",
       "      <th>396</th>\n",
       "      <td>Infected</td>\n",
       "      <td>I178</td>\n",
       "      <td>NaN</td>\n",
       "      <td>NaN</td>\n",
       "      <td>NaN</td>\n",
       "      <td>NaN</td>\n",
       "      <td>0</td>\n",
       "      <td>29</td>\n",
       "      <td>1</td>\n",
       "    </tr>\n",
       "    <tr>\n",
       "      <th>397</th>\n",
       "      <td>Infected</td>\n",
       "      <td>I179</td>\n",
       "      <td>NaN</td>\n",
       "      <td>NaN</td>\n",
       "      <td>NaN</td>\n",
       "      <td>NaN</td>\n",
       "      <td>1</td>\n",
       "      <td>51</td>\n",
       "      <td>1</td>\n",
       "    </tr>\n",
       "    <tr>\n",
       "      <th>398</th>\n",
       "      <td>Infected</td>\n",
       "      <td>I180</td>\n",
       "      <td>NaN</td>\n",
       "      <td>NaN</td>\n",
       "      <td>NaN</td>\n",
       "      <td>NaN</td>\n",
       "      <td>0</td>\n",
       "      <td>40</td>\n",
       "      <td>1</td>\n",
       "    </tr>\n",
       "  </tbody>\n",
       "</table>\n",
       "<p>299 rows × 9 columns</p>\n",
       "</div>"
      ],
      "text/plain": [
       "    Diagnosis    ID  Imaginary Part (Min Δ)  Imaginary Part (Avg Δ)  \\\n",
       "7        COPD   308                     NaN                     NaN   \n",
       "15       COPD   316                     NaN                     NaN   \n",
       "16       COPD   317                     NaN                     NaN   \n",
       "23       COPD   324                     NaN                     NaN   \n",
       "29       COPD   330                     NaN                     NaN   \n",
       "..        ...   ...                     ...                     ...   \n",
       "394  Infected  I176                     NaN                     NaN   \n",
       "395  Infected  I177                     NaN                     NaN   \n",
       "396  Infected  I178                     NaN                     NaN   \n",
       "397  Infected  I179                     NaN                     NaN   \n",
       "398  Infected  I180                     NaN                     NaN   \n",
       "\n",
       "     Real Part (Min Δ)  Real Part (Avg Δ)  Gender  Age  Smoking  \n",
       "7                  NaN                NaN       1   77        2  \n",
       "15                 NaN                NaN       1   45        2  \n",
       "16                 NaN                NaN       1   69        2  \n",
       "23                 NaN                NaN       1   64        2  \n",
       "29                 NaN                NaN       1   73        1  \n",
       "..                 ...                ...     ...  ...      ...  \n",
       "394                NaN                NaN       0   49        2  \n",
       "395                NaN                NaN       0   37        1  \n",
       "396                NaN                NaN       0   29        1  \n",
       "397                NaN                NaN       1   51        1  \n",
       "398                NaN                NaN       0   40        1  \n",
       "\n",
       "[299 rows x 9 columns]"
      ]
     },
     "execution_count": 8,
     "metadata": {},
     "output_type": "execute_result"
    }
   ],
   "source": [
    "rows_sali_nul = salivaco[salivaco.isnull().any(axis=1)]\n",
    "print(\"All 299 samples with NaN:\")\n",
    "rows_sali_nul"
   ]
  },
  {
   "cell_type": "code",
   "execution_count": 9,
   "metadata": {
    "colab": {
     "base_uri": "https://localhost:8080/",
     "height": 241
    },
    "executionInfo": {
     "elapsed": 380,
     "status": "ok",
     "timestamp": 1738030206239,
     "user": {
      "displayName": "Jada Karthika",
      "userId": "08335461557543458491"
     },
     "user_tz": -330
    },
    "id": "4ZcIbptjq6Hd",
    "outputId": "4a902d96-bc43-4147-9ab0-c63a9086211c"
   },
   "outputs": [
    {
     "data": {
      "text/plain": [
       "Diagnosis\n",
       "HC          120\n",
       "Asthma       70\n",
       "Infected     70\n",
       "COPD         39\n",
       "Name: count, dtype: int64"
      ]
     },
     "execution_count": 9,
     "metadata": {},
     "output_type": "execute_result"
    }
   ],
   "source": [
    "rows_sali_nul['Diagnosis'].value_counts() ##---distribution of samples in 299 rows"
   ]
  },
  {
   "cell_type": "code",
   "execution_count": 10,
   "metadata": {
    "colab": {
     "base_uri": "https://localhost:8080/",
     "height": 89
    },
    "executionInfo": {
     "elapsed": 1489,
     "status": "ok",
     "timestamp": 1738030231020,
     "user": {
      "displayName": "Jada Karthika",
      "userId": "08335461557543458491"
     },
     "user_tz": -330
    },
    "id": "YYe9A-mtq6Db",
    "outputId": "c6db3b0c-e7a2-4d83-b2c8-cdeca26cb012"
   },
   "outputs": [
    {
     "data": {
      "text/html": [
       "<div>\n",
       "<style scoped>\n",
       "    .dataframe tbody tr th:only-of-type {\n",
       "        vertical-align: middle;\n",
       "    }\n",
       "\n",
       "    .dataframe tbody tr th {\n",
       "        vertical-align: top;\n",
       "    }\n",
       "\n",
       "    .dataframe thead th {\n",
       "        text-align: right;\n",
       "    }\n",
       "</style>\n",
       "<table border=\"1\" class=\"dataframe\">\n",
       "  <thead>\n",
       "    <tr style=\"text-align: right;\">\n",
       "      <th></th>\n",
       "      <th>Diagnosis</th>\n",
       "      <th>ID</th>\n",
       "      <th>Imaginary Part (Min Δ)</th>\n",
       "      <th>Imaginary Part (Avg Δ)</th>\n",
       "      <th>Real Part (Min Δ)</th>\n",
       "      <th>Real Part (Avg Δ)</th>\n",
       "      <th>Gender</th>\n",
       "      <th>Age</th>\n",
       "      <th>Smoking</th>\n",
       "    </tr>\n",
       "  </thead>\n",
       "  <tbody>\n",
       "  </tbody>\n",
       "</table>\n",
       "</div>"
      ],
      "text/plain": [
       "Empty DataFrame\n",
       "Columns: [Diagnosis, ID, Imaginary Part (Min Δ), Imaginary Part (Avg Δ), Real Part (Min Δ), Real Part (Avg Δ), Gender, Age, Smoking]\n",
       "Index: []"
      ]
     },
     "execution_count": 10,
     "metadata": {},
     "output_type": "execute_result"
    }
   ],
   "source": [
    "dupsaliva = salivaco[salivaco.duplicated()]\n",
    "dupsaliva"
   ]
  },
  {
   "cell_type": "markdown",
   "metadata": {
    "id": "HIrb13W2rLoL"
   },
   "source": [
    "0 duplicate rows in the dataframe"
   ]
  },
  {
   "cell_type": "code",
   "execution_count": 11,
   "metadata": {
    "colab": {
     "base_uri": "https://localhost:8080/",
     "height": 423
    },
    "executionInfo": {
     "elapsed": 368,
     "status": "ok",
     "timestamp": 1738030364392,
     "user": {
      "displayName": "Jada Karthika",
      "userId": "08335461557543458491"
     },
     "user_tz": -330
    },
    "id": "UH98I8NXrQFy",
    "outputId": "977dbacb-cf1b-43d8-cecb-0a2abcec22ef"
   },
   "outputs": [
    {
     "data": {
      "text/html": [
       "<div>\n",
       "<style scoped>\n",
       "    .dataframe tbody tr th:only-of-type {\n",
       "        vertical-align: middle;\n",
       "    }\n",
       "\n",
       "    .dataframe tbody tr th {\n",
       "        vertical-align: top;\n",
       "    }\n",
       "\n",
       "    .dataframe thead th {\n",
       "        text-align: right;\n",
       "    }\n",
       "</style>\n",
       "<table border=\"1\" class=\"dataframe\">\n",
       "  <thead>\n",
       "    <tr style=\"text-align: right;\">\n",
       "      <th></th>\n",
       "      <th>Diagnosis</th>\n",
       "      <th>ID</th>\n",
       "      <th>Imaginary Part (Min Δ)</th>\n",
       "      <th>Imaginary Part (Avg Δ)</th>\n",
       "      <th>Real Part (Min Δ)</th>\n",
       "      <th>Real Part (Avg Δ)</th>\n",
       "      <th>Gender</th>\n",
       "      <th>Age</th>\n",
       "      <th>Smoking</th>\n",
       "    </tr>\n",
       "  </thead>\n",
       "  <tbody>\n",
       "    <tr>\n",
       "      <th>0</th>\n",
       "      <td>COPD</td>\n",
       "      <td>301-4</td>\n",
       "      <td>-320.61</td>\n",
       "      <td>-300.563531</td>\n",
       "      <td>-495.26</td>\n",
       "      <td>-464.171991</td>\n",
       "      <td>1</td>\n",
       "      <td>77</td>\n",
       "      <td>2</td>\n",
       "    </tr>\n",
       "    <tr>\n",
       "      <th>1</th>\n",
       "      <td>COPD</td>\n",
       "      <td>302-3</td>\n",
       "      <td>-325.39</td>\n",
       "      <td>-314.750359</td>\n",
       "      <td>-473.73</td>\n",
       "      <td>-469.263140</td>\n",
       "      <td>0</td>\n",
       "      <td>72</td>\n",
       "      <td>2</td>\n",
       "    </tr>\n",
       "    <tr>\n",
       "      <th>2</th>\n",
       "      <td>COPD</td>\n",
       "      <td>303-3</td>\n",
       "      <td>-323.00</td>\n",
       "      <td>-317.436056</td>\n",
       "      <td>-476.12</td>\n",
       "      <td>-471.897667</td>\n",
       "      <td>1</td>\n",
       "      <td>73</td>\n",
       "      <td>3</td>\n",
       "    </tr>\n",
       "    <tr>\n",
       "      <th>3</th>\n",
       "      <td>COPD</td>\n",
       "      <td>304-4</td>\n",
       "      <td>-327.78</td>\n",
       "      <td>-317.399670</td>\n",
       "      <td>-473.73</td>\n",
       "      <td>-468.856388</td>\n",
       "      <td>1</td>\n",
       "      <td>76</td>\n",
       "      <td>2</td>\n",
       "    </tr>\n",
       "    <tr>\n",
       "      <th>4</th>\n",
       "      <td>COPD</td>\n",
       "      <td>305-4</td>\n",
       "      <td>-325.39</td>\n",
       "      <td>-316.155785</td>\n",
       "      <td>-478.52</td>\n",
       "      <td>-472.869783</td>\n",
       "      <td>0</td>\n",
       "      <td>65</td>\n",
       "      <td>2</td>\n",
       "    </tr>\n",
       "    <tr>\n",
       "      <th>...</th>\n",
       "      <td>...</td>\n",
       "      <td>...</td>\n",
       "      <td>...</td>\n",
       "      <td>...</td>\n",
       "      <td>...</td>\n",
       "      <td>...</td>\n",
       "      <td>...</td>\n",
       "      <td>...</td>\n",
       "      <td>...</td>\n",
       "    </tr>\n",
       "    <tr>\n",
       "      <th>366</th>\n",
       "      <td>Infected</td>\n",
       "      <td>148-5</td>\n",
       "      <td>-323.00</td>\n",
       "      <td>-314.384434</td>\n",
       "      <td>-476.12</td>\n",
       "      <td>-472.103689</td>\n",
       "      <td>1</td>\n",
       "      <td>38</td>\n",
       "      <td>1</td>\n",
       "    </tr>\n",
       "    <tr>\n",
       "      <th>367</th>\n",
       "      <td>Infected</td>\n",
       "      <td>149-5</td>\n",
       "      <td>-323.00</td>\n",
       "      <td>-314.323628</td>\n",
       "      <td>-476.12</td>\n",
       "      <td>-472.395413</td>\n",
       "      <td>1</td>\n",
       "      <td>36</td>\n",
       "      <td>1</td>\n",
       "    </tr>\n",
       "    <tr>\n",
       "      <th>368</th>\n",
       "      <td>Infected</td>\n",
       "      <td>150-5</td>\n",
       "      <td>-323.00</td>\n",
       "      <td>-312.856656</td>\n",
       "      <td>-480.91</td>\n",
       "      <td>-472.294281</td>\n",
       "      <td>0</td>\n",
       "      <td>33</td>\n",
       "      <td>1</td>\n",
       "    </tr>\n",
       "    <tr>\n",
       "      <th>369</th>\n",
       "      <td>Infected</td>\n",
       "      <td>151-4</td>\n",
       "      <td>-327.78</td>\n",
       "      <td>-319.305447</td>\n",
       "      <td>-476.12</td>\n",
       "      <td>-471.776918</td>\n",
       "      <td>1</td>\n",
       "      <td>43</td>\n",
       "      <td>1</td>\n",
       "    </tr>\n",
       "    <tr>\n",
       "      <th>375</th>\n",
       "      <td>Infected</td>\n",
       "      <td>157-3</td>\n",
       "      <td>-327.78</td>\n",
       "      <td>-318.068499</td>\n",
       "      <td>-473.73</td>\n",
       "      <td>-457.046465</td>\n",
       "      <td>0</td>\n",
       "      <td>25</td>\n",
       "      <td>2</td>\n",
       "    </tr>\n",
       "  </tbody>\n",
       "</table>\n",
       "<p>100 rows × 9 columns</p>\n",
       "</div>"
      ],
      "text/plain": [
       "    Diagnosis     ID  Imaginary Part (Min Δ)  Imaginary Part (Avg Δ)  \\\n",
       "0        COPD  301-4                 -320.61             -300.563531   \n",
       "1        COPD  302-3                 -325.39             -314.750359   \n",
       "2        COPD  303-3                 -323.00             -317.436056   \n",
       "3        COPD  304-4                 -327.78             -317.399670   \n",
       "4        COPD  305-4                 -325.39             -316.155785   \n",
       "..        ...    ...                     ...                     ...   \n",
       "366  Infected  148-5                 -323.00             -314.384434   \n",
       "367  Infected  149-5                 -323.00             -314.323628   \n",
       "368  Infected  150-5                 -323.00             -312.856656   \n",
       "369  Infected  151-4                 -327.78             -319.305447   \n",
       "375  Infected  157-3                 -327.78             -318.068499   \n",
       "\n",
       "     Real Part (Min Δ)  Real Part (Avg Δ)  Gender  Age  Smoking  \n",
       "0              -495.26        -464.171991       1   77        2  \n",
       "1              -473.73        -469.263140       0   72        2  \n",
       "2              -476.12        -471.897667       1   73        3  \n",
       "3              -473.73        -468.856388       1   76        2  \n",
       "4              -478.52        -472.869783       0   65        2  \n",
       "..                 ...                ...     ...  ...      ...  \n",
       "366            -476.12        -472.103689       1   38        1  \n",
       "367            -476.12        -472.395413       1   36        1  \n",
       "368            -480.91        -472.294281       0   33        1  \n",
       "369            -476.12        -471.776918       1   43        1  \n",
       "375            -473.73        -457.046465       0   25        2  \n",
       "\n",
       "[100 rows x 9 columns]"
      ]
     },
     "execution_count": 11,
     "metadata": {},
     "output_type": "execute_result"
    }
   ],
   "source": [
    "salivaco = salivaco.dropna() ##----dropping all 299 samples with NaN in saliva permittivity\n",
    "salivaco"
   ]
  },
  {
   "cell_type": "code",
   "execution_count": 12,
   "metadata": {
    "id": "OXYiCnZCscdT"
   },
   "outputs": [],
   "source": [
    "salivaco = salivaco.drop(columns=['ID'])"
   ]
  },
  {
   "cell_type": "code",
   "execution_count": 13,
   "metadata": {
    "colab": {
     "base_uri": "https://localhost:8080/"
    },
    "executionInfo": {
     "elapsed": 350,
     "status": "ok",
     "timestamp": 1738030596082,
     "user": {
      "displayName": "Jada Karthika",
      "userId": "08335461557543458491"
     },
     "user_tz": -330
    },
    "id": "cH8rUHldrthr",
    "outputId": "f0cbae0f-48ab-4550-a5d0-09a5744c2a89"
   },
   "outputs": [
    {
     "name": "stdout",
     "output_type": "stream",
     "text": [
      "<class 'pandas.core.frame.DataFrame'>\n",
      "Index: 100 entries, 0 to 375\n",
      "Data columns (total 8 columns):\n",
      " #   Column                  Non-Null Count  Dtype  \n",
      "---  ------                  --------------  -----  \n",
      " 0   Diagnosis               100 non-null    object \n",
      " 1   Imaginary Part (Min Δ)  100 non-null    float64\n",
      " 2   Imaginary Part (Avg Δ)  100 non-null    float64\n",
      " 3   Real Part (Min Δ)       100 non-null    float64\n",
      " 4   Real Part (Avg Δ)       100 non-null    float64\n",
      " 5   Gender                  100 non-null    int64  \n",
      " 6   Age                     100 non-null    int64  \n",
      " 7   Smoking                 100 non-null    int64  \n",
      "dtypes: float64(4), int64(3), object(1)\n",
      "memory usage: 7.0+ KB\n"
     ]
    }
   ],
   "source": [
    "salivaco.info()"
   ]
  },
  {
   "cell_type": "code",
   "execution_count": 14,
   "metadata": {
    "colab": {
     "base_uri": "https://localhost:8080/",
     "height": 1000
    },
    "executionInfo": {
     "elapsed": 379,
     "status": "ok",
     "timestamp": 1738038979401,
     "user": {
      "displayName": "Jada Karthika",
      "userId": "08335461557543458491"
     },
     "user_tz": -330
    },
    "id": "vqRGU5sFL9iC",
    "outputId": "88de727b-e2c2-454e-fd60-fa37c45a787a"
   },
   "outputs": [
    {
     "data": {
      "text/html": [
       "<div>\n",
       "<style scoped>\n",
       "    .dataframe tbody tr th:only-of-type {\n",
       "        vertical-align: middle;\n",
       "    }\n",
       "\n",
       "    .dataframe tbody tr th {\n",
       "        vertical-align: top;\n",
       "    }\n",
       "\n",
       "    .dataframe thead th {\n",
       "        text-align: right;\n",
       "    }\n",
       "</style>\n",
       "<table border=\"1\" class=\"dataframe\">\n",
       "  <thead>\n",
       "    <tr style=\"text-align: right;\">\n",
       "      <th></th>\n",
       "      <th>Diagnosis</th>\n",
       "      <th>Imaginary Part (Min Δ)</th>\n",
       "      <th>Imaginary Part (Avg Δ)</th>\n",
       "      <th>Real Part (Min Δ)</th>\n",
       "      <th>Real Part (Avg Δ)</th>\n",
       "      <th>Gender</th>\n",
       "      <th>Age</th>\n",
       "      <th>Smoking</th>\n",
       "    </tr>\n",
       "  </thead>\n",
       "  <tbody>\n",
       "    <tr>\n",
       "      <th>0</th>\n",
       "      <td>COPD</td>\n",
       "      <td>-320.61</td>\n",
       "      <td>-300.563531</td>\n",
       "      <td>-495.26</td>\n",
       "      <td>-464.171991</td>\n",
       "      <td>1</td>\n",
       "      <td>77</td>\n",
       "      <td>2</td>\n",
       "    </tr>\n",
       "    <tr>\n",
       "      <th>1</th>\n",
       "      <td>COPD</td>\n",
       "      <td>-325.39</td>\n",
       "      <td>-314.750359</td>\n",
       "      <td>-473.73</td>\n",
       "      <td>-469.263140</td>\n",
       "      <td>0</td>\n",
       "      <td>72</td>\n",
       "      <td>2</td>\n",
       "    </tr>\n",
       "    <tr>\n",
       "      <th>2</th>\n",
       "      <td>COPD</td>\n",
       "      <td>-323.00</td>\n",
       "      <td>-317.436056</td>\n",
       "      <td>-476.12</td>\n",
       "      <td>-471.897667</td>\n",
       "      <td>1</td>\n",
       "      <td>73</td>\n",
       "      <td>3</td>\n",
       "    </tr>\n",
       "    <tr>\n",
       "      <th>3</th>\n",
       "      <td>COPD</td>\n",
       "      <td>-327.78</td>\n",
       "      <td>-317.399670</td>\n",
       "      <td>-473.73</td>\n",
       "      <td>-468.856388</td>\n",
       "      <td>1</td>\n",
       "      <td>76</td>\n",
       "      <td>2</td>\n",
       "    </tr>\n",
       "    <tr>\n",
       "      <th>4</th>\n",
       "      <td>COPD</td>\n",
       "      <td>-325.39</td>\n",
       "      <td>-316.155785</td>\n",
       "      <td>-478.52</td>\n",
       "      <td>-472.869783</td>\n",
       "      <td>0</td>\n",
       "      <td>65</td>\n",
       "      <td>2</td>\n",
       "    </tr>\n",
       "    <tr>\n",
       "      <th>...</th>\n",
       "      <td>...</td>\n",
       "      <td>...</td>\n",
       "      <td>...</td>\n",
       "      <td>...</td>\n",
       "      <td>...</td>\n",
       "      <td>...</td>\n",
       "      <td>...</td>\n",
       "      <td>...</td>\n",
       "    </tr>\n",
       "    <tr>\n",
       "      <th>366</th>\n",
       "      <td>Infected</td>\n",
       "      <td>-323.00</td>\n",
       "      <td>-314.384434</td>\n",
       "      <td>-476.12</td>\n",
       "      <td>-472.103689</td>\n",
       "      <td>1</td>\n",
       "      <td>38</td>\n",
       "      <td>1</td>\n",
       "    </tr>\n",
       "    <tr>\n",
       "      <th>367</th>\n",
       "      <td>Infected</td>\n",
       "      <td>-323.00</td>\n",
       "      <td>-314.323628</td>\n",
       "      <td>-476.12</td>\n",
       "      <td>-472.395413</td>\n",
       "      <td>1</td>\n",
       "      <td>36</td>\n",
       "      <td>1</td>\n",
       "    </tr>\n",
       "    <tr>\n",
       "      <th>368</th>\n",
       "      <td>Infected</td>\n",
       "      <td>-323.00</td>\n",
       "      <td>-312.856656</td>\n",
       "      <td>-480.91</td>\n",
       "      <td>-472.294281</td>\n",
       "      <td>0</td>\n",
       "      <td>33</td>\n",
       "      <td>1</td>\n",
       "    </tr>\n",
       "    <tr>\n",
       "      <th>369</th>\n",
       "      <td>Infected</td>\n",
       "      <td>-327.78</td>\n",
       "      <td>-319.305447</td>\n",
       "      <td>-476.12</td>\n",
       "      <td>-471.776918</td>\n",
       "      <td>1</td>\n",
       "      <td>43</td>\n",
       "      <td>1</td>\n",
       "    </tr>\n",
       "    <tr>\n",
       "      <th>375</th>\n",
       "      <td>Infected</td>\n",
       "      <td>-327.78</td>\n",
       "      <td>-318.068499</td>\n",
       "      <td>-473.73</td>\n",
       "      <td>-457.046465</td>\n",
       "      <td>0</td>\n",
       "      <td>25</td>\n",
       "      <td>2</td>\n",
       "    </tr>\n",
       "  </tbody>\n",
       "</table>\n",
       "<p>100 rows × 8 columns</p>\n",
       "</div>"
      ],
      "text/plain": [
       "    Diagnosis  Imaginary Part (Min Δ)  Imaginary Part (Avg Δ)  \\\n",
       "0        COPD                 -320.61             -300.563531   \n",
       "1        COPD                 -325.39             -314.750359   \n",
       "2        COPD                 -323.00             -317.436056   \n",
       "3        COPD                 -327.78             -317.399670   \n",
       "4        COPD                 -325.39             -316.155785   \n",
       "..        ...                     ...                     ...   \n",
       "366  Infected                 -323.00             -314.384434   \n",
       "367  Infected                 -323.00             -314.323628   \n",
       "368  Infected                 -323.00             -312.856656   \n",
       "369  Infected                 -327.78             -319.305447   \n",
       "375  Infected                 -327.78             -318.068499   \n",
       "\n",
       "     Real Part (Min Δ)  Real Part (Avg Δ)  Gender  Age  Smoking  \n",
       "0              -495.26        -464.171991       1   77        2  \n",
       "1              -473.73        -469.263140       0   72        2  \n",
       "2              -476.12        -471.897667       1   73        3  \n",
       "3              -473.73        -468.856388       1   76        2  \n",
       "4              -478.52        -472.869783       0   65        2  \n",
       "..                 ...                ...     ...  ...      ...  \n",
       "366            -476.12        -472.103689       1   38        1  \n",
       "367            -476.12        -472.395413       1   36        1  \n",
       "368            -480.91        -472.294281       0   33        1  \n",
       "369            -476.12        -471.776918       1   43        1  \n",
       "375            -473.73        -457.046465       0   25        2  \n",
       "\n",
       "[100 rows x 8 columns]"
      ]
     },
     "execution_count": 14,
     "metadata": {},
     "output_type": "execute_result"
    }
   ],
   "source": [
    "salivaco"
   ]
  },
  {
   "cell_type": "code",
   "execution_count": 15,
   "metadata": {
    "colab": {
     "base_uri": "https://localhost:8080/",
     "height": 241
    },
    "executionInfo": {
     "elapsed": 373,
     "status": "ok",
     "timestamp": 1738030621297,
     "user": {
      "displayName": "Jada Karthika",
      "userId": "08335461557543458491"
     },
     "user_tz": -330
    },
    "id": "kN-C-x93saAI",
    "outputId": "0ba78cab-3a14-40ae-ae2a-efd765e511c6"
   },
   "outputs": [
    {
     "data": {
      "text/plain": [
       "Diagnosis\n",
       "COPD        40\n",
       "HC          40\n",
       "Asthma      10\n",
       "Infected    10\n",
       "Name: count, dtype: int64"
      ]
     },
     "execution_count": 15,
     "metadata": {},
     "output_type": "execute_result"
    }
   ],
   "source": [
    "salivaco['Diagnosis'].value_counts()"
   ]
  },
  {
   "cell_type": "code",
   "execution_count": 16,
   "metadata": {
    "colab": {
     "base_uri": "https://localhost:8080/",
     "height": 472
    },
    "executionInfo": {
     "elapsed": 471,
     "status": "ok",
     "timestamp": 1738030980345,
     "user": {
      "displayName": "Jada Karthika",
      "userId": "08335461557543458491"
     },
     "user_tz": -330
    },
    "id": "iHRBWN5tsZ7i",
    "outputId": "1968731b-e224-4e39-8c68-0f98eebd0a94"
   },
   "outputs": [
    {
     "data": {
      "image/png": "[encoded data removed]",
      "text/plain": [
       "<Figure size 640x480 with 1 Axes>"
      ]
     },
     "metadata": {},
     "output_type": "display_data"
    }
   ],
   "source": [
    "snscopd.countplot(data=salivaco, x='Diagnosis', palette='muted')\n",
    "pltcopd.title('Four groups of respiratory patients')\n",
    "pltcopd.xlabel('100 samples')\n",
    "pltcopd.ylabel('number of samples')\n",
    "pltcopd.show()"
   ]
  },
  {
   "cell_type": "code",
   "execution_count": 17,
   "metadata": {
    "colab": {
     "base_uri": "https://localhost:8080/",
     "height": 771
    },
    "executionInfo": {
     "elapsed": 676,
     "status": "ok",
     "timestamp": 1738043712066,
     "user": {
      "displayName": "Jada Karthika",
      "userId": "08335461557543458491"
     },
     "user_tz": -330
    },
    "id": "oDWQGRhtVbqQ",
    "outputId": "80d10cd4-c2db-44b0-ffcc-518b641f647f"
   },
   "outputs": [
    {
     "name": "stdout",
     "output_type": "stream",
     "text": [
      "samples of respiratory patients who are male:\n",
      "Diagnosis\n",
      "COPD        32\n",
      "HC          23\n",
      "Infected     4\n",
      "Asthma       2\n",
      "Name: count, dtype: int64\n",
      "\n",
      "samples of respiratory patients who are female:\n",
      "Diagnosis\n",
      "HC          17\n",
      "COPD         8\n",
      "Asthma       8\n",
      "Infected     6\n",
      "Name: count, dtype: int64\n",
      "\n",
      "Gender distribution:\n",
      "Gender\n",
      "1    61\n",
      "0    39\n",
      "Name: count, dtype: int64\n"
     ]
    },
    {
     "data": {
      "image/png": "[encoded data removed]",
      "text/plain": [
       "<Figure size 1000x400 with 2 Axes>"
      ]
     },
     "metadata": {},
     "output_type": "display_data"
    }
   ],
   "source": [
    "mal_sal = salivaco[salivaco['Gender'] == 1]  #---filtering male and female\n",
    "fem_sal = salivaco[salivaco['Gender'] == 0]\n",
    "\n",
    "mal_sal_tar = mal_sal['Diagnosis'].value_counts()  #---calculating target class\n",
    "fem_sal_tar = fem_sal['Diagnosis'].value_counts()\n",
    "\n",
    "gender_dist = salivaco['Gender'].value_counts()\n",
    "\n",
    "print(\"samples of respiratory patients who are male:\")\n",
    "print(mal_sal_tar)\n",
    "print(\"\\nsamples of respiratory patients who are female:\")\n",
    "print(fem_sal_tar)\n",
    "print(\"\\nGender distribution:\")\n",
    "print(gender_dist)\n",
    "\n",
    "salfig, axsal = pltcopd.subplots(1, 2, figsize=(10, 4))\n",
    "\n",
    "#---plotting piecharts\n",
    "axsal[0].bar(mal_sal_tar.index.astype(str), mal_sal_tar.values, color=['#FFE4B5', '#C8E6C9', '#E6E6FA', '#66B3FF'])\n",
    "axsal[0].set_title(f'Samples who are Male\\n{mal_sal_tar.to_dict()}')\n",
    "axsal[0].set_xlabel('Four groups of respiratory patients')\n",
    "axsal[0].set_ylabel('number of samples')\n",
    "\n",
    "axsal[1].bar(fem_sal_tar.index.astype(str), fem_sal_tar.values, color=['#C8E6C9', '#FFE4B5', '#66B3FF', '#E6E6FA'])\n",
    "axsal[1].set_title(f'Samples who are Female\\n{fem_sal_tar.to_dict()}')\n",
    "axsal[1].set_xlabel('Four groups of respiratory patients')\n",
    "axsal[1].set_ylabel('number of samples')\n",
    "salfig.tight_layout()\n",
    "salfig.show()"
   ]
  },
  {
   "cell_type": "markdown",
   "metadata": {
    "id": "Nt30oDS-XhEk"
   },
   "source": [
    "male (1); female (0)"
   ]
  },
  {
   "cell_type": "code",
   "execution_count": 18,
   "metadata": {
    "colab": {
     "base_uri": "https://localhost:8080/",
     "height": 845
    },
    "executionInfo": {
     "elapsed": 2295,
     "status": "ok",
     "timestamp": 1738043727314,
     "user": {
      "displayName": "Jada Karthika",
      "userId": "08335461557543458491"
     },
     "user_tz": -330
    },
    "id": "ne3v7_X3YoQF",
    "outputId": "ecdedbe4-0f25-4cad-e5d5-9a123d7838bf"
   },
   "outputs": [
    {
     "name": "stdout",
     "output_type": "stream",
     "text": [
      "samples of respiratory patients who are smokers:\n",
      "Diagnosis\n",
      "HC        8\n",
      "Asthma    3\n",
      "COPD      2\n",
      "Name: count, dtype: int64\n",
      "\n",
      "samples of respiratory patients who are ex-smokers:\n",
      "Diagnosis\n",
      "COPD        37\n",
      "HC           8\n",
      "Asthma       3\n",
      "Infected     1\n",
      "Name: count, dtype: int64\n",
      "\n",
      "samples of respiratory patients who are non-smokers:\n",
      "Diagnosis\n",
      "HC          24\n",
      "Infected     9\n",
      "Asthma       4\n",
      "COPD         1\n",
      "Name: count, dtype: int64\n",
      "\n",
      "Smoking distribution:\n",
      "Smoking\n",
      "2    49\n",
      "1    38\n",
      "3    13\n",
      "Name: count, dtype: int64\n"
     ]
    },
    {
     "data": {
      "image/png": "[encoded data removed]",
      "text/plain": [
       "<Figure size 1400x400 with 3 Axes>"
      ]
     },
     "metadata": {},
     "output_type": "display_data"
    }
   ],
   "source": [
    "smok_sal = salivaco[salivaco['Smoking'] == 3]  #---filtering smokers\n",
    "ex_smok_sal = salivaco[salivaco['Smoking'] == 2]\n",
    "non_smok_sal = salivaco[salivaco['Smoking'] == 1]\n",
    "\n",
    "smok_sal_tar = smok_sal['Diagnosis'].value_counts()  #---calculating target class\n",
    "ex_smok_sal_tar = ex_smok_sal['Diagnosis'].value_counts()\n",
    "non_smok_sal_tar = non_smok_sal['Diagnosis'].value_counts()\n",
    "\n",
    "smoke_dist = salivaco['Smoking'].value_counts()\n",
    "\n",
    "print(\"samples of respiratory patients who are smokers:\")\n",
    "print(smok_sal_tar)\n",
    "print(\"\\nsamples of respiratory patients who are ex-smokers:\")\n",
    "print(ex_smok_sal_tar)\n",
    "print(\"\\nsamples of respiratory patients who are non-smokers:\")\n",
    "print(non_smok_sal_tar)\n",
    "print(\"\\nSmoking distribution:\")\n",
    "print(smoke_dist)\n",
    "\n",
    "salfig, axsal = pltcopd.subplots(1, 3, figsize=(14, 4))\n",
    "\n",
    "#---plotting piecharts\n",
    "axsal[0].bar(smok_sal_tar.index.astype(str), smok_sal_tar.values, color=['#C8E6C9', '#66B3FF', '#FFE4B5', '#E6E6FA'])\n",
    "axsal[0].set_title(f'Samples who are smokers\\n{smok_sal_tar.to_dict()}')\n",
    "axsal[0].set_xlabel('Four groups of respiratory patients')\n",
    "axsal[0].set_ylabel('number of samples')\n",
    "\n",
    "axsal[1].bar(ex_smok_sal_tar.index.astype(str), ex_smok_sal_tar.values, color=['#FFE4B5', '#C8E6C9', '#66B3FF', '#E6E6FA'])\n",
    "axsal[1].set_title(f'Samples who are ex-smokers\\n{ex_smok_sal_tar.to_dict()}')\n",
    "axsal[1].set_xlabel('Four groups of respiratory patients')\n",
    "axsal[1].set_ylabel('number of samples')\n",
    "\n",
    "axsal[2].bar(non_smok_sal_tar.index.astype(str), non_smok_sal_tar.values, color=['#C8E6C9', '#E6E6FA', '#66B3FF', '#FFE4B5'])\n",
    "axsal[2].set_title(f'Samples who are non-smokers\\n{non_smok_sal_tar.to_dict()}')\n",
    "axsal[2].set_xlabel('Four groups of respiratory patients')\n",
    "axsal[2].set_ylabel('number of samples')\n",
    "salfig.tight_layout()\n",
    "salfig.show()"
   ]
  },
  {
   "cell_type": "markdown",
   "metadata": {
    "id": "f-PsuNYIcVaI"
   },
   "source": [
    "smoker (3); ex-smoker (2); non-smoker (1)"
   ]
  },
  {
   "cell_type": "code",
   "execution_count": 19,
   "metadata": {
    "colab": {
     "base_uri": "https://localhost:8080/",
     "height": 407
    },
    "executionInfo": {
     "elapsed": 1118,
     "status": "ok",
     "timestamp": 1738044251620,
     "user": {
      "displayName": "Jada Karthika",
      "userId": "08335461557543458491"
     },
     "user_tz": -330
    },
    "id": "_ge5VumPfXQq",
    "outputId": "b252f55b-8a0f-44a1-9af4-046b2584f7cf"
   },
   "outputs": [
    {
     "data": {
      "image/png": "[encoded data removed]",
      "text/plain": [
       "<Figure size 600x400 with 1 Axes>"
      ]
     },
     "metadata": {},
     "output_type": "display_data"
    }
   ],
   "source": [
    "pltcopd.figure(figsize=(6, 4))\n",
    "snscopd.histplot(salivaco['Age'], kde=True, bins=20, color='#87CEEB', edgecolor='black')\n",
    "\n",
    "pltcopd.title('Age Distribution with KDE', fontsize=16)\n",
    "pltcopd.xlabel('Age', fontsize=12)\n",
    "pltcopd.ylabel('Frequency', fontsize=12)\n",
    "pltcopd.tight_layout()\n",
    "pltcopd.show()"
   ]
  },
  {
   "cell_type": "code",
   "execution_count": 20,
   "metadata": {
    "colab": {
     "base_uri": "https://localhost:8080/"
    },
    "executionInfo": {
     "elapsed": 359,
     "status": "ok",
     "timestamp": 1738044453770,
     "user": {
      "displayName": "Jada Karthika",
      "userId": "08335461557543458491"
     },
     "user_tz": -330
    },
    "id": "WVdhYH_Ug6h-",
    "outputId": "e8ed208d-2155-4fa1-adbd-7964e9eb23d9"
   },
   "outputs": [
    {
     "name": "stdout",
     "output_type": "stream",
     "text": [
      "<class 'pandas.core.frame.DataFrame'>\n",
      "Index: 100 entries, 0 to 375\n",
      "Data columns (total 8 columns):\n",
      " #   Column                  Non-Null Count  Dtype  \n",
      "---  ------                  --------------  -----  \n",
      " 0   Diagnosis               100 non-null    int64  \n",
      " 1   Imaginary Part (Min Δ)  100 non-null    float64\n",
      " 2   Imaginary Part (Avg Δ)  100 non-null    float64\n",
      " 3   Real Part (Min Δ)       100 non-null    float64\n",
      " 4   Real Part (Avg Δ)       100 non-null    float64\n",
      " 5   Gender                  100 non-null    int64  \n",
      " 6   Age                     100 non-null    int64  \n",
      " 7   Smoking                 100 non-null    int64  \n",
      "dtypes: float64(4), int64(4)\n",
      "memory usage: 7.0 KB\n"
     ]
    }
   ],
   "source": [
    "from sklearn.preprocessing import LabelEncoder as saliva_label\n",
    "\n",
    "salcop_encod = saliva_label()\n",
    "salivaco['Diagnosis'] = salcop_encod.fit_transform(salivaco['Diagnosis'])\n",
    "salivaco.info()"
   ]
  },
  {
   "cell_type": "code",
   "execution_count": 21,
   "metadata": {
    "colab": {
     "base_uri": "https://localhost:8080/",
     "height": 241
    },
    "executionInfo": {
     "elapsed": 436,
     "status": "ok",
     "timestamp": 1738044488280,
     "user": {
      "displayName": "Jada Karthika",
      "userId": "08335461557543458491"
     },
     "user_tz": -330
    },
    "id": "i3fMclZqhb-2",
    "outputId": "ce2519ea-7436-4990-e739-fbd2d80bdd9c"
   },
   "outputs": [
    {
     "data": {
      "text/plain": [
       "Diagnosis\n",
       "1    40\n",
       "2    40\n",
       "0    10\n",
       "3    10\n",
       "Name: count, dtype: int64"
      ]
     },
     "execution_count": 21,
     "metadata": {},
     "output_type": "execute_result"
    }
   ],
   "source": [
    "salivaco['Diagnosis'].value_counts()"
   ]
  },
  {
   "cell_type": "code",
   "execution_count": 22,
   "metadata": {
    "id": "u2u5Jzb2hqhq"
   },
   "outputs": [],
   "source": [
    "salivaco.to_csv('Exasens_final.csv', index=False)"
   ]
  },
  {
   "cell_type": "code",
   "execution_count": null,
   "metadata": {},
   "outputs": [],
   "source": []
  }
 ],
 "metadata": {
  "colab": {
   "authorship_tag": "ABX9TyMr1M6sDS8SIXD+QUoYqVdk",
   "provenance": []
  },
  "kernelspec": {
   "display_name": "Python 3 (ipykernel)",
   "language": "python",
   "name": "python3"
  },
  "language_info": {
   "codemirror_mode": {
    "name": "ipython",
    "version": 3
   },
   "file_extension": ".py",
   "mimetype": "text/x-python",
   "name": "python",
   "nbconvert_exporter": "python",
   "pygments_lexer": "ipython3",
   "version": "3.11.7"
  }
 },
 "nbformat": 4,
 "nbformat_minor": 4
}
