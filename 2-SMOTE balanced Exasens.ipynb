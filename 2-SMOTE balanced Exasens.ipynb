{
 "cells": [
  {
   "cell_type": "code",
   "execution_count": 1,
   "metadata": {
    "colab": {
     "base_uri": "https://localhost:8080/",
     "height": 423
    },
    "executionInfo": {
     "elapsed": 851,
     "status": "ok",
     "timestamp": 1740660930320,
     "user": {
      "displayName": "Jada Karthika",
      "userId": "08335461557543458491"
     },
     "user_tz": -330
    },
    "id": "kZRtKn5KZW_I",
    "outputId": "438cde7d-b9cb-49fd-f739-bbb2bf86868f"
   },
   "outputs": [
    {
     "data": {
      "text/html": [
       "<div>\n",
       "<style scoped>\n",
       "    .dataframe tbody tr th:only-of-type {\n",
       "        vertical-align: middle;\n",
       "    }\n",
       "\n",
       "    .dataframe tbody tr th {\n",
       "        vertical-align: top;\n",
       "    }\n",
       "\n",
       "    .dataframe thead th {\n",
       "        text-align: right;\n",
       "    }\n",
       "</style>\n",
       "<table border=\"1\" class=\"dataframe\">\n",
       "  <thead>\n",
       "    <tr style=\"text-align: right;\">\n",
       "      <th></th>\n",
       "      <th>Diagnosis</th>\n",
       "      <th>Imaginary Part (Min Δ)</th>\n",
       "      <th>Imaginary Part (Avg Δ)</th>\n",
       "      <th>Real Part (Min Δ)</th>\n",
       "      <th>Real Part (Avg Δ)</th>\n",
       "      <th>Gender</th>\n",
       "      <th>Age</th>\n",
       "      <th>Smoking</th>\n",
       "    </tr>\n",
       "  </thead>\n",
       "  <tbody>\n",
       "    <tr>\n",
       "      <th>0</th>\n",
       "      <td>1</td>\n",
       "      <td>-320.61</td>\n",
       "      <td>-300.563531</td>\n",
       "      <td>-495.26</td>\n",
       "      <td>-464.171991</td>\n",
       "      <td>1</td>\n",
       "      <td>77</td>\n",
       "      <td>2</td>\n",
       "    </tr>\n",
       "    <tr>\n",
       "      <th>1</th>\n",
       "      <td>1</td>\n",
       "      <td>-325.39</td>\n",
       "      <td>-314.750359</td>\n",
       "      <td>-473.73</td>\n",
       "      <td>-469.263140</td>\n",
       "      <td>0</td>\n",
       "      <td>72</td>\n",
       "      <td>2</td>\n",
       "    </tr>\n",
       "    <tr>\n",
       "      <th>2</th>\n",
       "      <td>1</td>\n",
       "      <td>-323.00</td>\n",
       "      <td>-317.436056</td>\n",
       "      <td>-476.12</td>\n",
       "      <td>-471.897667</td>\n",
       "      <td>1</td>\n",
       "      <td>73</td>\n",
       "      <td>3</td>\n",
       "    </tr>\n",
       "    <tr>\n",
       "      <th>3</th>\n",
       "      <td>1</td>\n",
       "      <td>-327.78</td>\n",
       "      <td>-317.399670</td>\n",
       "      <td>-473.73</td>\n",
       "      <td>-468.856388</td>\n",
       "      <td>1</td>\n",
       "      <td>76</td>\n",
       "      <td>2</td>\n",
       "    </tr>\n",
       "    <tr>\n",
       "      <th>4</th>\n",
       "      <td>1</td>\n",
       "      <td>-325.39</td>\n",
       "      <td>-316.155785</td>\n",
       "      <td>-478.52</td>\n",
       "      <td>-472.869783</td>\n",
       "      <td>0</td>\n",
       "      <td>65</td>\n",
       "      <td>2</td>\n",
       "    </tr>\n",
       "    <tr>\n",
       "      <th>...</th>\n",
       "      <td>...</td>\n",
       "      <td>...</td>\n",
       "      <td>...</td>\n",
       "      <td>...</td>\n",
       "      <td>...</td>\n",
       "      <td>...</td>\n",
       "      <td>...</td>\n",
       "      <td>...</td>\n",
       "    </tr>\n",
       "    <tr>\n",
       "      <th>95</th>\n",
       "      <td>3</td>\n",
       "      <td>-323.00</td>\n",
       "      <td>-314.384434</td>\n",
       "      <td>-476.12</td>\n",
       "      <td>-472.103689</td>\n",
       "      <td>1</td>\n",
       "      <td>38</td>\n",
       "      <td>1</td>\n",
       "    </tr>\n",
       "    <tr>\n",
       "      <th>96</th>\n",
       "      <td>3</td>\n",
       "      <td>-323.00</td>\n",
       "      <td>-314.323628</td>\n",
       "      <td>-476.12</td>\n",
       "      <td>-472.395413</td>\n",
       "      <td>1</td>\n",
       "      <td>36</td>\n",
       "      <td>1</td>\n",
       "    </tr>\n",
       "    <tr>\n",
       "      <th>97</th>\n",
       "      <td>3</td>\n",
       "      <td>-323.00</td>\n",
       "      <td>-312.856656</td>\n",
       "      <td>-480.91</td>\n",
       "      <td>-472.294281</td>\n",
       "      <td>0</td>\n",
       "      <td>33</td>\n",
       "      <td>1</td>\n",
       "    </tr>\n",
       "    <tr>\n",
       "      <th>98</th>\n",
       "      <td>3</td>\n",
       "      <td>-327.78</td>\n",
       "      <td>-319.305447</td>\n",
       "      <td>-476.12</td>\n",
       "      <td>-471.776918</td>\n",
       "      <td>1</td>\n",
       "      <td>43</td>\n",
       "      <td>1</td>\n",
       "    </tr>\n",
       "    <tr>\n",
       "      <th>99</th>\n",
       "      <td>3</td>\n",
       "      <td>-327.78</td>\n",
       "      <td>-318.068499</td>\n",
       "      <td>-473.73</td>\n",
       "      <td>-457.046465</td>\n",
       "      <td>0</td>\n",
       "      <td>25</td>\n",
       "      <td>2</td>\n",
       "    </tr>\n",
       "  </tbody>\n",
       "</table>\n",
       "<p>100 rows × 8 columns</p>\n",
       "</div>"
      ],
      "text/plain": [
       "    Diagnosis  Imaginary Part (Min Δ)  Imaginary Part (Avg Δ)  \\\n",
       "0           1                 -320.61             -300.563531   \n",
       "1           1                 -325.39             -314.750359   \n",
       "2           1                 -323.00             -317.436056   \n",
       "3           1                 -327.78             -317.399670   \n",
       "4           1                 -325.39             -316.155785   \n",
       "..        ...                     ...                     ...   \n",
       "95          3                 -323.00             -314.384434   \n",
       "96          3                 -323.00             -314.323628   \n",
       "97          3                 -323.00             -312.856656   \n",
       "98          3                 -327.78             -319.305447   \n",
       "99          3                 -327.78             -318.068499   \n",
       "\n",
       "    Real Part (Min Δ)  Real Part (Avg Δ)  Gender  Age  Smoking  \n",
       "0             -495.26        -464.171991       1   77        2  \n",
       "1             -473.73        -469.263140       0   72        2  \n",
       "2             -476.12        -471.897667       1   73        3  \n",
       "3             -473.73        -468.856388       1   76        2  \n",
       "4             -478.52        -472.869783       0   65        2  \n",
       "..                ...                ...     ...  ...      ...  \n",
       "95            -476.12        -472.103689       1   38        1  \n",
       "96            -476.12        -472.395413       1   36        1  \n",
       "97            -480.91        -472.294281       0   33        1  \n",
       "98            -476.12        -471.776918       1   43        1  \n",
       "99            -473.73        -457.046465       0   25        2  \n",
       "\n",
       "[100 rows x 8 columns]"
      ]
     },
     "execution_count": 1,
     "metadata": {},
     "output_type": "execute_result"
    }
   ],
   "source": [
    "import pandas as coppds\n",
    "import matplotlib.pyplot as pltcopd\n",
    "\n",
    "salivaco = coppds.read_csv('Exasens_final.csv')\n",
    "salivaco"
   ]
  },
  {
   "cell_type": "code",
   "execution_count": 2,
   "metadata": {
    "colab": {
     "base_uri": "https://localhost:8080/",
     "height": 241
    },
    "executionInfo": {
     "elapsed": 54,
     "status": "ok",
     "timestamp": 1740660930378,
     "user": {
      "displayName": "Jada Karthika",
      "userId": "08335461557543458491"
     },
     "user_tz": -330
    },
    "id": "HPtDF8RHZeiB",
    "outputId": "bba6202d-0d82-4581-9ad7-c9506a8bbec0"
   },
   "outputs": [
    {
     "data": {
      "text/plain": [
       "Diagnosis\n",
       "1    40\n",
       "2    40\n",
       "0    10\n",
       "3    10\n",
       "Name: count, dtype: int64"
      ]
     },
     "execution_count": 2,
     "metadata": {},
     "output_type": "execute_result"
    }
   ],
   "source": [
    "salivaco['Diagnosis'].value_counts()"
   ]
  },
  {
   "cell_type": "markdown",
   "metadata": {
    "id": "daeoiIvLZkFQ"
   },
   "source": [
    "the data is imbalanced"
   ]
  },
  {
   "cell_type": "markdown",
   "metadata": {
    "id": "2RYVXbKnUCPj"
   },
   "source": [
    "Balancing training data using SMOTE"
   ]
  },
  {
   "cell_type": "code",
   "execution_count": 3,
   "metadata": {
    "id": "5FKnflXZUE4i"
   },
   "outputs": [],
   "source": [
    "from sklearn.model_selection import train_test_split as sal_ttsplit\n",
    "from imblearn.over_sampling import SMOTE as salsmote\n",
    "\n",
    "salXX = salivaco.drop('Diagnosis', axis=1)\n",
    "salyy = salivaco['Diagnosis']\n",
    "\n",
    "XXtrain, XXtest, yytrain, yytest = sal_ttsplit(salXX, salyy, test_size=0.2, random_state=1)\n",
    "\n",
    "salsmen = salsmote()\n",
    "XXresam, yyresam = salsmen.fit_resample(XXtrain, yytrain)"
   ]
  },
  {
   "cell_type": "code",
   "execution_count": 4,
   "metadata": {
    "colab": {
     "base_uri": "https://localhost:8080/"
    },
    "executionInfo": {
     "elapsed": 99,
     "status": "ok",
     "timestamp": 1740660933549,
     "user": {
      "displayName": "Jada Karthika",
      "userId": "08335461557543458491"
     },
     "user_tz": -330
    },
    "id": "GsVuehvfZ18G",
    "outputId": "ec469624-21b9-44f9-d9ee-8f8c1499b5ef"
   },
   "outputs": [
    {
     "data": {
      "text/plain": [
       "((132, 7), (20, 7))"
      ]
     },
     "execution_count": 4,
     "metadata": {},
     "output_type": "execute_result"
    }
   ],
   "source": [
    "XXresam.shape, XXtest.shape"
   ]
  },
  {
   "cell_type": "code",
   "execution_count": 5,
   "metadata": {
    "colab": {
     "base_uri": "https://localhost:8080/"
    },
    "executionInfo": {
     "elapsed": 16,
     "status": "ok",
     "timestamp": 1740660933568,
     "user": {
      "displayName": "Jada Karthika",
      "userId": "08335461557543458491"
     },
     "user_tz": -330
    },
    "id": "8K28r30ZY5Sm",
    "outputId": "719807a7-18f3-4e9c-90a6-9343b0fae1c4"
   },
   "outputs": [
    {
     "name": "stdout",
     "output_type": "stream",
     "text": [
      "Diagnosis\n",
      "1    33\n",
      "2    33\n",
      "3     8\n",
      "0     6\n",
      "Name: count, dtype: int64\n"
     ]
    }
   ],
   "source": [
    "print(coppds.Series(yytrain).value_counts())"
   ]
  },
  {
   "cell_type": "code",
   "execution_count": 6,
   "metadata": {
    "colab": {
     "base_uri": "https://localhost:8080/"
    },
    "executionInfo": {
     "elapsed": 40,
     "status": "ok",
     "timestamp": 1740660933610,
     "user": {
      "displayName": "Jada Karthika",
      "userId": "08335461557543458491"
     },
     "user_tz": -330
    },
    "id": "ZKpn6slNZ8gn",
    "outputId": "b13a243e-7573-4c54-d4e1-58b84d8a1214"
   },
   "outputs": [
    {
     "name": "stdout",
     "output_type": "stream",
     "text": [
      "Diagnosis\n",
      "1    33\n",
      "2    33\n",
      "3    33\n",
      "0    33\n",
      "Name: count, dtype: int64\n"
     ]
    }
   ],
   "source": [
    "print(coppds.Series(yyresam).value_counts())"
   ]
  },
  {
   "cell_type": "code",
   "execution_count": 7,
   "metadata": {
    "colab": {
     "base_uri": "https://localhost:8080/"
    },
    "executionInfo": {
     "elapsed": 6,
     "status": "ok",
     "timestamp": 1740660933620,
     "user": {
      "displayName": "Jada Karthika",
      "userId": "08335461557543458491"
     },
     "user_tz": -330
    },
    "id": "2SdRcvuRZ9Zw",
    "outputId": "27a91ce5-2f79-47be-dafb-659fa2a3e1fa"
   },
   "outputs": [
    {
     "name": "stdout",
     "output_type": "stream",
     "text": [
      "Diagnosis\n",
      "1    7\n",
      "2    7\n",
      "0    4\n",
      "3    2\n",
      "Name: count, dtype: int64\n"
     ]
    }
   ],
   "source": [
    "print(coppds.Series(yytest).value_counts())"
   ]
  },
  {
   "cell_type": "code",
   "execution_count": 8,
   "metadata": {
    "id": "Z8Vw8Uk_aBJY"
   },
   "outputs": [],
   "source": [
    "from sklearn.metrics import classification_report as classisal\n",
    "from sklearn.metrics import average_precision_score as avgpresal\n",
    "from sklearn.metrics import matthews_corrcoef as MCCsal\n",
    "from sklearn.model_selection import GridSearchCV as gridsearsal\n",
    "from sklearn.metrics import precision_recall_curve as prerecsal\n",
    "from sklearn.metrics import confusion_matrix as matrixsal\n",
    "from sklearn.metrics import balanced_accuracy_score as balnaccsal\n",
    "from sklearn.metrics import roc_auc_score as rocaucsal\n",
    "from sklearn.metrics import ConfusionMatrixDisplay as dispmatrixsal\n",
    "import warnings as salwar\n",
    "salwar.filterwarnings(\"ignore\")"
   ]
  },
  {
   "cell_type": "markdown",
   "metadata": {
    "id": "pDgAC4TYaDih"
   },
   "source": [
    "**Decision Tree Classification Model**"
   ]
  },
  {
   "cell_type": "code",
   "execution_count": 9,
   "metadata": {
    "colab": {
     "base_uri": "https://localhost:8080/"
    },
    "executionInfo": {
     "elapsed": 12181,
     "status": "ok",
     "timestamp": 1740660945814,
     "user": {
      "displayName": "Jada Karthika",
      "userId": "08335461557543458491"
     },
     "user_tz": -330
    },
    "id": "evU5vkWGaEXa",
    "outputId": "a6ff6113-0294-4d1a-ca03-4ae159158732"
   },
   "outputs": [
    {
     "name": "stdout",
     "output_type": "stream",
     "text": [
      "Fitting 5 folds for each of 144 candidates, totalling 720 fits\n",
      "best parameters of decision tree:\n",
      "{'class_weight': None, 'criterion': 'gini', 'max_depth': 30, 'min_samples_split': 2, 'splitter': 'best'}\n"
     ]
    }
   ],
   "source": [
    "from sklearn.tree import DecisionTreeClassifier as saldtcpd\n",
    "\n",
    "dt_sal = saldtcpd()\n",
    "\n",
    "gridsal = {'criterion': ['gini', 'log_loss', 'entropy'],\n",
    "            'splitter': ['random', 'best'],\n",
    "            'max_depth': [None, 10, 20, 30],\n",
    "            'class_weight': [None, 'balanced'],\n",
    "            'min_samples_split': [2, 5, 10]}\n",
    "\n",
    "copdgridsal = gridsearsal(dt_sal, param_grid=gridsal, cv=5, scoring='accuracy', verbose=1)\n",
    "copdgridsal.fit(XXresam, yyresam)\n",
    "decclas = copdgridsal.best_estimator_\n",
    "print(\"best parameters of decision tree:\")\n",
    "print(copdgridsal.best_params_)"
   ]
  },
  {
   "cell_type": "code",
   "execution_count": 20,
   "metadata": {
    "colab": {
     "base_uri": "https://localhost:8080/",
     "height": 785
    },
    "executionInfo": {
     "elapsed": 1571,
     "status": "ok",
     "timestamp": 1740660947380,
     "user": {
      "displayName": "Jada Karthika",
      "userId": "08335461557543458491"
     },
     "user_tz": -330
    },
    "id": "LXrs7PuKaLvB",
    "outputId": "b8c5f551-ac8d-4412-c2b4-15c54ae347bc"
   },
   "outputs": [
    {
     "name": "stdout",
     "output_type": "stream",
     "text": [
      "Test.decision tree:\n",
      "              precision    recall  f1-score   support\n",
      "\n",
      "           0       0.00      0.00      0.00         4\n",
      "           1       0.78      1.00      0.88         7\n",
      "           2       0.50      0.57      0.53         7\n",
      "           3       0.50      0.50      0.50         2\n",
      "\n",
      "    accuracy                           0.60        20\n",
      "   macro avg       0.44      0.52      0.48        20\n",
      "weighted avg       0.50      0.60      0.54        20\n",
      "\n",
      "Test.balanced accuracy:\n",
      "0.5178571428571428\n",
      "Test.MCC:\n",
      "0.4255826210924108\n",
      "Test.AUPRC:\n"
     ]
    },
    {
     "ename": "ValueError",
     "evalue": "multiclass format is not supported",
     "output_type": "error",
     "traceback": [
      "\u001b[0;31m---------------------------------------------------------------------------\u001b[0m",
      "\u001b[0;31mValueError\u001b[0m                                Traceback (most recent call last)",
      "Cell \u001b[0;32mIn[20], line 10\u001b[0m\n\u001b[1;32m      8\u001b[0m \u001b[38;5;28mprint\u001b[39m(MCCsal(yytest, saltest_pred))\n\u001b[1;32m      9\u001b[0m \u001b[38;5;28mprint\u001b[39m(\u001b[38;5;124m\"\u001b[39m\u001b[38;5;124mTest.AUPRC:\u001b[39m\u001b[38;5;124m\"\u001b[39m)\n\u001b[0;32m---> 10\u001b[0m \u001b[38;5;28mprint\u001b[39m(avgpresal(yytest, saltest_prob))\n\u001b[1;32m     11\u001b[0m tstcmm \u001b[38;5;241m=\u001b[39m matrixsal(yytest, saltest_pred)\n\u001b[1;32m     12\u001b[0m dispmatrixsal(confusion_matrix\u001b[38;5;241m=\u001b[39mtstcmm)\u001b[38;5;241m.\u001b[39mplot()\n",
      "File \u001b[0;32m/opt/anaconda3/lib/python3.11/site-packages/sklearn/metrics/_ranking.py:234\u001b[0m, in \u001b[0;36maverage_precision_score\u001b[0;34m(y_true, y_score, average, pos_label, sample_weight)\u001b[0m\n\u001b[1;32m    227\u001b[0m         \u001b[38;5;28;01mraise\u001b[39;00m \u001b[38;5;167;01mValueError\u001b[39;00m(\n\u001b[1;32m    228\u001b[0m             \u001b[38;5;124mf\u001b[39m\u001b[38;5;124m\"\u001b[39m\u001b[38;5;124mpos_label=\u001b[39m\u001b[38;5;132;01m{\u001b[39;00mpos_label\u001b[38;5;132;01m}\u001b[39;00m\u001b[38;5;124m is not a valid label. It should be \u001b[39m\u001b[38;5;124m\"\u001b[39m\n\u001b[1;32m    229\u001b[0m             \u001b[38;5;124mf\u001b[39m\u001b[38;5;124m\"\u001b[39m\u001b[38;5;124mone of \u001b[39m\u001b[38;5;132;01m{\u001b[39;00mpresent_labels\u001b[38;5;132;01m}\u001b[39;00m\u001b[38;5;124m\"\u001b[39m\n\u001b[1;32m    230\u001b[0m         )\n\u001b[1;32m    231\u001b[0m average_precision \u001b[38;5;241m=\u001b[39m partial(\n\u001b[1;32m    232\u001b[0m     _binary_uninterpolated_average_precision, pos_label\u001b[38;5;241m=\u001b[39mpos_label\n\u001b[1;32m    233\u001b[0m )\n\u001b[0;32m--> 234\u001b[0m \u001b[38;5;28;01mreturn\u001b[39;00m _average_binary_score(\n\u001b[1;32m    235\u001b[0m     average_precision, y_true, y_score, average, sample_weight\u001b[38;5;241m=\u001b[39msample_weight\n\u001b[1;32m    236\u001b[0m )\n",
      "File \u001b[0;32m/opt/anaconda3/lib/python3.11/site-packages/sklearn/metrics/_base.py:72\u001b[0m, in \u001b[0;36m_average_binary_score\u001b[0;34m(binary_metric, y_true, y_score, average, sample_weight)\u001b[0m\n\u001b[1;32m     70\u001b[0m y_type \u001b[38;5;241m=\u001b[39m type_of_target(y_true)\n\u001b[1;32m     71\u001b[0m \u001b[38;5;28;01mif\u001b[39;00m y_type \u001b[38;5;129;01mnot\u001b[39;00m \u001b[38;5;129;01min\u001b[39;00m (\u001b[38;5;124m\"\u001b[39m\u001b[38;5;124mbinary\u001b[39m\u001b[38;5;124m\"\u001b[39m, \u001b[38;5;124m\"\u001b[39m\u001b[38;5;124mmultilabel-indicator\u001b[39m\u001b[38;5;124m\"\u001b[39m):\n\u001b[0;32m---> 72\u001b[0m     \u001b[38;5;28;01mraise\u001b[39;00m \u001b[38;5;167;01mValueError\u001b[39;00m(\u001b[38;5;124m\"\u001b[39m\u001b[38;5;132;01m{0}\u001b[39;00m\u001b[38;5;124m format is not supported\u001b[39m\u001b[38;5;124m\"\u001b[39m\u001b[38;5;241m.\u001b[39mformat(y_type))\n\u001b[1;32m     74\u001b[0m \u001b[38;5;28;01mif\u001b[39;00m y_type \u001b[38;5;241m==\u001b[39m \u001b[38;5;124m\"\u001b[39m\u001b[38;5;124mbinary\u001b[39m\u001b[38;5;124m\"\u001b[39m:\n\u001b[1;32m     75\u001b[0m     \u001b[38;5;28;01mreturn\u001b[39;00m binary_metric(y_true, y_score, sample_weight\u001b[38;5;241m=\u001b[39msample_weight)\n",
      "\u001b[0;31mValueError\u001b[0m: multiclass format is not supported"
     ]
    }
   ],
   "source": [
    "saltest_pred = decclas.predict(XXtest)\n",
    "saltest_prob = decclas.predict_proba(XXtest)\n",
    "print(\"Test.decision tree:\")\n",
    "print(classisal(yytest, saltest_pred))\n",
    "print(\"Test.balanced accuracy:\")\n",
    "print(balnaccsal(yytest, saltest_pred))\n",
    "print(\"Test.MCC:\")\n",
    "print(MCCsal(yytest, saltest_pred))\n",
    "print(\"Test.AUPRC:\")\n",
    "print(avgpresal(yytest, saltest_prob))\n",
    "tstcmm = matrixsal(yytest, saltest_pred)\n",
    "dispmatrixsal(confusion_matrix=tstcmm).plot()"
   ]
  },
  {
   "cell_type": "code",
   "execution_count": null,
   "metadata": {
    "colab": {
     "base_uri": "https://localhost:8080/",
     "height": 569
    },
    "executionInfo": {
     "elapsed": 1747,
     "status": "ok",
     "timestamp": 1740660949165,
     "user": {
      "displayName": "Jada Karthika",
      "userId": "08335461557543458491"
     },
     "user_tz": -330
    },
    "id": "Z-3NwMNvaS5_",
    "outputId": "e814318e-e309-4e60-e2a7-71bd0c5c72c2"
   },
   "outputs": [],
   "source": [
    "pltcopd.figure(figsize=(8, 6))\n",
    "outpt_clas = 4 ###(multi-class)\n",
    "\n",
    "presaldict = {}\n",
    "recsaldict = {}\n",
    "auprcsaldict = {}\n",
    "\n",
    "for iss in range(outpt_clas):\n",
    "    precision, recall, _ = prerecsal(yytest == iss, saltest_prob[:, iss]) ## computing for each class\n",
    "    salauprc = avgpresal(yytest == iss, saltest_prob[:, iss])\n",
    "    presaldict[iss] = precision\n",
    "    recsaldict[iss] = recall\n",
    "    auprcsaldict[iss] = salauprc\n",
    "\n",
    "for iss in range(outpt_clas):\n",
    "    pltcopd.plot(recsaldict[iss], presaldict[iss], label=f'Class {iss} AUPRC = {auprcsaldict[iss]:.4f}')\n",
    "\n",
    "pltcopd.xlabel('Recall', fontsize=12)\n",
    "pltcopd.ylabel('Precision', fontsize=12)\n",
    "pltcopd.title('Decision Tree - Precision-Recall Curves', fontsize=14)\n",
    "pltcopd.legend(loc='lower left', fontsize=12)\n",
    "pltcopd.grid(alpha=0.8)\n",
    "pltcopd.show()"
   ]
  },
  {
   "cell_type": "markdown",
   "metadata": {
    "id": "sRbcbFaZaqAi"
   },
   "source": [
    "**Random Forest Classification Model**"
   ]
  },
  {
   "cell_type": "code",
   "execution_count": null,
   "metadata": {
    "colab": {
     "base_uri": "https://localhost:8080/"
    },
    "executionInfo": {
     "elapsed": 179494,
     "status": "ok",
     "timestamp": 1740661128661,
     "user": {
      "displayName": "Jada Karthika",
      "userId": "08335461557543458491"
     },
     "user_tz": -330
    },
    "id": "mPUT5MYnarB2",
    "outputId": "b4e2207b-f508-42a2-8712-1a6fcb089e6f"
   },
   "outputs": [],
   "source": [
    "from sklearn.ensemble import RandomForestClassifier as salrfcpd\n",
    "\n",
    "rf_sal = salrfcpd()\n",
    "\n",
    "gridsal = {\n",
    "    'criterion': ['gini', 'log_loss', 'entropy'],\n",
    "    'n_estimators': [50, 100, 200],\n",
    "    'min_samples_split': [2, 5, 10],\n",
    "    'max_depth': [10, 20, None],\n",
    "    'class_weight': [None, 'balanced']\n",
    "}\n",
    "\n",
    "copdgridsal = gridsearsal(rf_sal, param_grid=gridsal, cv=5, scoring='accuracy', verbose=1)\n",
    "copdgridsal.fit(XXresam, yyresam)\n",
    "rffclas = copdgridsal.best_estimator_\n",
    "print(\"best parameters of randomforest:\")\n",
    "print(copdgridsal.best_params_)"
   ]
  },
  {
   "cell_type": "code",
   "execution_count": null,
   "metadata": {
    "colab": {
     "base_uri": "https://localhost:8080/",
     "height": 785
    },
    "executionInfo": {
     "elapsed": 347,
     "status": "ok",
     "timestamp": 1740661129002,
     "user": {
      "displayName": "Jada Karthika",
      "userId": "08335461557543458491"
     },
     "user_tz": -330
    },
    "id": "c2yuwG8Iav8n",
    "outputId": "a5726011-3a34-4f1e-ec4e-8514d81587d6"
   },
   "outputs": [],
   "source": [
    "saltest_pred = rffclas.predict(XXtest)\n",
    "saltest_prob = rffclas.predict_proba(XXtest)\n",
    "print(\"Test.randomforest:\")\n",
    "print(classisal(yytest, saltest_pred))\n",
    "print(\"Test.balanced accuracy:\")\n",
    "print(balnaccsal(yytest, saltest_pred))\n",
    "print(\"Test.MCC:\")\n",
    "print(MCCsal(yytest, saltest_pred))\n",
    "print(\"Test.AUPRC:\")\n",
    "print(avgpresal(yytest, saltest_prob))\n",
    "tstcmm = matrixsal(yytest, saltest_pred)\n",
    "dispmatrixsal(confusion_matrix=tstcmm).plot()"
   ]
  },
  {
   "cell_type": "code",
   "execution_count": null,
   "metadata": {
    "colab": {
     "base_uri": "https://localhost:8080/",
     "height": 569
    },
    "executionInfo": {
     "elapsed": 198,
     "status": "ok",
     "timestamp": 1740661129202,
     "user": {
      "displayName": "Jada Karthika",
      "userId": "08335461557543458491"
     },
     "user_tz": -330
    },
    "id": "A2pXr_6XbOnS",
    "outputId": "583fc54f-eb11-4fd8-da1e-d542f349e777"
   },
   "outputs": [],
   "source": [
    "pltcopd.figure(figsize=(8, 6))\n",
    "outpt_clas = 4 ###(multi-class)\n",
    "\n",
    "presaldict = {}\n",
    "recsaldict = {}\n",
    "auprcsaldict = {}\n",
    "\n",
    "for iss in range(outpt_clas):\n",
    "    precision, recall, _ = prerecsal(yytest == iss, saltest_prob[:, iss]) ## computing for each class\n",
    "    salauprc = avgpresal(yytest == iss, saltest_prob[:, iss])\n",
    "    presaldict[iss] = precision\n",
    "    recsaldict[iss] = recall\n",
    "    auprcsaldict[iss] = salauprc\n",
    "\n",
    "for iss in range(outpt_clas):\n",
    "    pltcopd.plot(recsaldict[iss], presaldict[iss], label=f'Class {iss} AUPRC = {auprcsaldict[iss]:.4f}')\n",
    "\n",
    "pltcopd.xlabel('Recall', fontsize=12)\n",
    "pltcopd.ylabel('Precision', fontsize=12)\n",
    "pltcopd.title('Randomforest - Precision-Recall Curves', fontsize=14)\n",
    "pltcopd.legend(loc='lower left', fontsize=12)\n",
    "pltcopd.grid(alpha=0.8)\n",
    "pltcopd.show()"
   ]
  },
  {
   "cell_type": "markdown",
   "metadata": {
    "id": "VY8B7BRtbPbu"
   },
   "source": [
    "**Support Vector Machine**"
   ]
  },
  {
   "cell_type": "code",
   "execution_count": null,
   "metadata": {
    "colab": {
     "base_uri": "https://localhost:8080/"
    },
    "executionInfo": {
     "elapsed": 32661,
     "status": "ok",
     "timestamp": 1740661161867,
     "user": {
      "displayName": "Jada Karthika",
      "userId": "08335461557543458491"
     },
     "user_tz": -330
    },
    "id": "Gb2EkW3DbahG",
    "outputId": "95a172e1-b548-4483-ecee-29e382e18641"
   },
   "outputs": [],
   "source": [
    "from sklearn.svm import SVC as salsvmcpd\n",
    "\n",
    "svm_sal = salsvmcpd(probability=True)\n",
    "\n",
    "gridsal = {\n",
    "    'C': [0.1, 1, 10],\n",
    "    'kernel': ['linear', 'rbf'],\n",
    "    'degree': [2, 3, 4],\n",
    "    'gamma': ['scale', 'auto'],\n",
    "    'class_weight': [None, 'balanced']\n",
    "}\n",
    "\n",
    "copdgridsal = gridsearsal(svm_sal, param_grid=gridsal, cv=5, scoring='accuracy', n_jobs=-1, verbose=1)\n",
    "copdgridsal.fit(XXresam, yyresam)\n",
    "svmclas = copdgridsal.best_estimator_\n",
    "print(\"best parameters of svm:\")\n",
    "print(copdgridsal.best_params_)"
   ]
  },
  {
   "cell_type": "code",
   "execution_count": null,
   "metadata": {
    "colab": {
     "base_uri": "https://localhost:8080/",
     "height": 785
    },
    "executionInfo": {
     "elapsed": 481,
     "status": "ok",
     "timestamp": 1740661162343,
     "user": {
      "displayName": "Jada Karthika",
      "userId": "08335461557543458491"
     },
     "user_tz": -330
    },
    "id": "lL_X7yIMbooB",
    "outputId": "ffd7a719-69a6-4d66-8cef-96f0860ae061"
   },
   "outputs": [],
   "source": [
    "saltest_pred = svmclas.predict(XXtest)\n",
    "saltest_prob = svmclas.predict_proba(XXtest)\n",
    "print(\"Test.SVM:\")\n",
    "print(classisal(yytest, saltest_pred))\n",
    "print(\"Test.balanced accuracy:\")\n",
    "print(balnaccsal(yytest, saltest_pred))\n",
    "print(\"Test.MCC:\")\n",
    "print(MCCsal(yytest, saltest_pred))\n",
    "print(\"Test.AUPRC:\")\n",
    "print(avgpresal(yytest, saltest_prob))\n",
    "tstcmm = matrixsal(yytest, saltest_pred)\n",
    "dispmatrixsal(confusion_matrix=tstcmm).plot()"
   ]
  },
  {
   "cell_type": "code",
   "execution_count": null,
   "metadata": {
    "colab": {
     "base_uri": "https://localhost:8080/",
     "height": 569
    },
    "executionInfo": {
     "elapsed": 363,
     "status": "ok",
     "timestamp": 1740661162711,
     "user": {
      "displayName": "Jada Karthika",
      "userId": "08335461557543458491"
     },
     "user_tz": -330
    },
    "id": "zpAG3asEbtTN",
    "outputId": "c69446d4-28e6-4c66-a259-223ed843f355"
   },
   "outputs": [],
   "source": [
    "pltcopd.figure(figsize=(8, 6))\n",
    "outpt_clas = 4 ###(multi-class)\n",
    "\n",
    "presaldict = {}\n",
    "recsaldict = {}\n",
    "auprcsaldict = {}\n",
    "\n",
    "for iss in range(outpt_clas):\n",
    "    precision, recall, _ = prerecsal(yytest == iss, saltest_prob[:, iss]) ## computing for each class\n",
    "    salauprc = avgpresal(yytest == iss, saltest_prob[:, iss])\n",
    "    presaldict[iss] = precision\n",
    "    recsaldict[iss] = recall\n",
    "    auprcsaldict[iss] = salauprc\n",
    "\n",
    "for iss in range(outpt_clas):\n",
    "    pltcopd.plot(recsaldict[iss], presaldict[iss], label=f'Class {iss} AUPRC = {auprcsaldict[iss]:.4f}')\n",
    "\n",
    "pltcopd.xlabel('Recall', fontsize=12)\n",
    "pltcopd.ylabel('Precision', fontsize=12)\n",
    "pltcopd.title('SVM - Precision-Recall Curves', fontsize=14)\n",
    "pltcopd.legend(loc='lower left', fontsize=12)\n",
    "pltcopd.grid(alpha=0.8)\n",
    "pltcopd.show()"
   ]
  }
 ],
 "metadata": {
  "colab": {
   "provenance": []
  },
  "kernelspec": {
   "display_name": "Python 3 (ipykernel)",
   "language": "python",
   "name": "python3"
  },
  "language_info": {
   "codemirror_mode": {
    "name": "ipython",
    "version": 3
   },
   "file_extension": ".py",
   "mimetype": "text/x-python",
   "name": "python",
   "nbconvert_exporter": "python",
   "pygments_lexer": "ipython3",
   "version": "3.11.7"
  }
 },
 "nbformat": 4,
 "nbformat_minor": 4
}
